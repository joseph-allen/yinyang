{
 "cells": [
  {
   "cell_type": "code",
   "execution_count": 75,
   "metadata": {},
   "outputs": [
    {
     "name": "stderr",
     "output_type": "stream",
     "text": [
      "[nltk_data] Downloading package vader_lexicon to\n",
      "[nltk_data]     /Users/joern/nltk_data...\n"
     ]
    }
   ],
   "source": [
    "import pandas as pd\n",
    "import numpy as np\n",
    "import nltk \n",
    "nltk.download('vader_lexicon')\n",
    "from nltk.sentiment.vader import SentimentIntensityAnalyzer"
   ]
  },
  {
   "cell_type": "code",
   "execution_count": 62,
   "metadata": {},
   "outputs": [],
   "source": [
    "f = open('chat.txt', \"r\")\n",
    "lines = f.read().splitlines() \n",
    "# lines = list(f)"
   ]
  },
  {
   "cell_type": "code",
   "execution_count": 120,
   "metadata": {},
   "outputs": [],
   "source": [
    "formatted_lines = list(map(lambda x: x.replace(' - ', ': ').split(': ',2),lines))"
   ]
  },
  {
   "cell_type": "code",
   "execution_count": 63,
   "metadata": {},
   "outputs": [
    {
     "name": "stdout",
     "output_type": "stream",
     "text": [
      "11/13/18, 12:44 PM - Joe: <Media omitted>\n",
      "['11/13/18, 12:44 PM', ['Joe', '<Media omitted>']]\n",
      "['11/13/18, 12:44 PM', 'Joe', '<Media omitted>']\n"
     ]
    }
   ],
   "source": [
    "# print(lines[0])\n",
    "\n",
    "# formatted_lines = list(map(lambda x: x.split(' - ', 1),lines))\n",
    "\n",
    "# for line in formatted_lines:\n",
    "#     line[1] = line[1].split(': ', 1)\n",
    "\n",
    "# print(formatted_lines[0])\n",
    "\n",
    "# for line in formatted_lines:\n",
    "#     line.append(line[1][1])\n",
    "#     line[1] = line[1][0]\n",
    "\n",
    "# print(formatted_lines[0])"
   ]
  },
  {
   "cell_type": "code",
   "execution_count": 121,
   "metadata": {},
   "outputs": [
    {
     "data": {
      "text/html": [
       "<div>\n",
       "<style scoped>\n",
       "    .dataframe tbody tr th:only-of-type {\n",
       "        vertical-align: middle;\n",
       "    }\n",
       "\n",
       "    .dataframe tbody tr th {\n",
       "        vertical-align: top;\n",
       "    }\n",
       "\n",
       "    .dataframe thead th {\n",
       "        text-align: right;\n",
       "    }\n",
       "</style>\n",
       "<table border=\"1\" class=\"dataframe\">\n",
       "  <thead>\n",
       "    <tr style=\"text-align: right;\">\n",
       "      <th></th>\n",
       "      <th>timestamp</th>\n",
       "      <th>name</th>\n",
       "      <th>message</th>\n",
       "    </tr>\n",
       "  </thead>\n",
       "  <tbody>\n",
       "    <tr>\n",
       "      <th>0</th>\n",
       "      <td>11/13/18, 12:44 PM</td>\n",
       "      <td>Joe</td>\n",
       "      <td>&lt;Media omitted&gt;</td>\n",
       "    </tr>\n",
       "    <tr>\n",
       "      <th>1</th>\n",
       "      <td>11/13/18, 12:44 PM</td>\n",
       "      <td>Joe</td>\n",
       "      <td>Can you please show your mentor this picture</td>\n",
       "    </tr>\n",
       "    <tr>\n",
       "      <th>2</th>\n",
       "      <td>11/13/18, 12:45 PM</td>\n",
       "      <td>Joe</td>\n",
       "      <td>And don't say any words</td>\n",
       "    </tr>\n",
       "    <tr>\n",
       "      <th>3</th>\n",
       "      <td>11/13/18, 12:45 PM</td>\n",
       "      <td>Joe</td>\n",
       "      <td>Just keep pointing at this picture</td>\n",
       "    </tr>\n",
       "    <tr>\n",
       "      <th>4</th>\n",
       "      <td>11/13/18, 1:50 PM</td>\n",
       "      <td>Sarah Cook</td>\n",
       "      <td>Is that the rose</td>\n",
       "    </tr>\n",
       "  </tbody>\n",
       "</table>\n",
       "</div>"
      ],
      "text/plain": [
       "            timestamp        name  \\\n",
       "0  11/13/18, 12:44 PM         Joe   \n",
       "1  11/13/18, 12:44 PM         Joe   \n",
       "2  11/13/18, 12:45 PM         Joe   \n",
       "3  11/13/18, 12:45 PM         Joe   \n",
       "4   11/13/18, 1:50 PM  Sarah Cook   \n",
       "\n",
       "                                        message  \n",
       "0                               <Media omitted>  \n",
       "1  Can you please show your mentor this picture  \n",
       "2                       And don't say any words  \n",
       "3            Just keep pointing at this picture  \n",
       "4                              Is that the rose  "
      ]
     },
     "execution_count": 121,
     "metadata": {},
     "output_type": "execute_result"
    }
   ],
   "source": [
    "df = pd.DataFrame(formatted_lines)\n",
    "df.columns = ['timestamp','name','message']\n",
    "df.head()"
   ]
  },
  {
   "cell_type": "code",
   "execution_count": 122,
   "metadata": {},
   "outputs": [
    {
     "data": {
      "text/plain": [
       "<matplotlib.axes._subplots.AxesSubplot at 0x1a2876b160>"
      ]
     },
     "execution_count": 122,
     "metadata": {},
     "output_type": "execute_result"
    },
    {
     "data": {
      "image/png": "[encoded data removed]",
      "text/plain": [
       "<Figure size 432x288 with 1 Axes>"
      ]
     },
     "metadata": {
      "needs_background": "light"
     },
     "output_type": "display_data"
    }
   ],
   "source": [
    "pd.value_counts(df['name']).plot.bar()"
   ]
  },
  {
   "cell_type": "code",
   "execution_count": 81,
   "metadata": {},
   "outputs": [
    {
     "data": {
      "text/html": [
       "<div>\n",
       "<style scoped>\n",
       "    .dataframe tbody tr th:only-of-type {\n",
       "        vertical-align: middle;\n",
       "    }\n",
       "\n",
       "    .dataframe tbody tr th {\n",
       "        vertical-align: top;\n",
       "    }\n",
       "\n",
       "    .dataframe thead th {\n",
       "        text-align: right;\n",
       "    }\n",
       "</style>\n",
       "<table border=\"1\" class=\"dataframe\">\n",
       "  <thead>\n",
       "    <tr style=\"text-align: right;\">\n",
       "      <th></th>\n",
       "      <th>timestamp</th>\n",
       "      <th>name</th>\n",
       "      <th>message</th>\n",
       "      <th>neg</th>\n",
       "      <th>neu</th>\n",
       "      <th>pos</th>\n",
       "      <th>compound</th>\n",
       "    </tr>\n",
       "  </thead>\n",
       "  <tbody>\n",
       "    <tr>\n",
       "      <th>0</th>\n",
       "      <td>11/13/18, 12:44 PM</td>\n",
       "      <td>Joe</td>\n",
       "      <td>&lt;Media omitted&gt;</td>\n",
       "      <td>0.0</td>\n",
       "      <td>1.000</td>\n",
       "      <td>0.000</td>\n",
       "      <td>0.0000</td>\n",
       "    </tr>\n",
       "    <tr>\n",
       "      <th>1</th>\n",
       "      <td>11/13/18, 12:44 PM</td>\n",
       "      <td>Joe</td>\n",
       "      <td>Can you please show your mentor this picture</td>\n",
       "      <td>0.0</td>\n",
       "      <td>0.753</td>\n",
       "      <td>0.247</td>\n",
       "      <td>0.3182</td>\n",
       "    </tr>\n",
       "    <tr>\n",
       "      <th>2</th>\n",
       "      <td>11/13/18, 12:45 PM</td>\n",
       "      <td>Joe</td>\n",
       "      <td>And don't say any words</td>\n",
       "      <td>0.0</td>\n",
       "      <td>1.000</td>\n",
       "      <td>0.000</td>\n",
       "      <td>0.0000</td>\n",
       "    </tr>\n",
       "    <tr>\n",
       "      <th>3</th>\n",
       "      <td>11/13/18, 12:45 PM</td>\n",
       "      <td>Joe</td>\n",
       "      <td>Just keep pointing at this picture</td>\n",
       "      <td>0.0</td>\n",
       "      <td>1.000</td>\n",
       "      <td>0.000</td>\n",
       "      <td>0.0000</td>\n",
       "    </tr>\n",
       "    <tr>\n",
       "      <th>4</th>\n",
       "      <td>11/13/18, 1:50 PM</td>\n",
       "      <td>Sarah Cook</td>\n",
       "      <td>Is that the rose</td>\n",
       "      <td>0.0</td>\n",
       "      <td>1.000</td>\n",
       "      <td>0.000</td>\n",
       "      <td>0.0000</td>\n",
       "    </tr>\n",
       "  </tbody>\n",
       "</table>\n",
       "</div>"
      ],
      "text/plain": [
       "            timestamp        name  \\\n",
       "0  11/13/18, 12:44 PM         Joe   \n",
       "1  11/13/18, 12:44 PM         Joe   \n",
       "2  11/13/18, 12:45 PM         Joe   \n",
       "3  11/13/18, 12:45 PM         Joe   \n",
       "4   11/13/18, 1:50 PM  Sarah Cook   \n",
       "\n",
       "                                        message  neg    neu    pos  compound  \n",
       "0                               <Media omitted>  0.0  1.000  0.000    0.0000  \n",
       "1  Can you please show your mentor this picture  0.0  0.753  0.247    0.3182  \n",
       "2                       And don't say any words  0.0  1.000  0.000    0.0000  \n",
       "3            Just keep pointing at this picture  0.0  1.000  0.000    0.0000  \n",
       "4                              Is that the rose  0.0  1.000  0.000    0.0000  "
      ]
     },
     "execution_count": 81,
     "metadata": {},
     "output_type": "execute_result"
    }
   ],
   "source": [
    "sid = SentimentIntensityAnalyzer()\n",
    "ss = sid.polarity_scores(df['message'][0])\n",
    "df['neg'] = df['message'].apply(lambda x: sid.polarity_scores(x)['neg'])\n",
    "df['neu'] = df['message'].apply(lambda x: sid.polarity_scores(x)['neu'])\n",
    "df['pos'] = df['message'].apply(lambda x: sid.polarity_scores(x)['pos'])\n",
    "df['compound'] = df['message'].apply(lambda x: sid.polarity_scores(x)['compound'])\n",
    "df.head()"
   ]
  },
  {
   "cell_type": "code",
   "execution_count": 87,
   "metadata": {},
   "outputs": [
    {
     "data": {
      "text/html": [
       "<div>\n",
       "<style scoped>\n",
       "    .dataframe tbody tr th:only-of-type {\n",
       "        vertical-align: middle;\n",
       "    }\n",
       "\n",
       "    .dataframe tbody tr th {\n",
       "        vertical-align: top;\n",
       "    }\n",
       "\n",
       "    .dataframe thead th {\n",
       "        text-align: right;\n",
       "    }\n",
       "</style>\n",
       "<table border=\"1\" class=\"dataframe\">\n",
       "  <thead>\n",
       "    <tr style=\"text-align: right;\">\n",
       "      <th></th>\n",
       "      <th>timestamp</th>\n",
       "      <th>name</th>\n",
       "      <th>message</th>\n",
       "      <th>neg</th>\n",
       "      <th>neu</th>\n",
       "      <th>pos</th>\n",
       "      <th>compound</th>\n",
       "    </tr>\n",
       "  </thead>\n",
       "  <tbody>\n",
       "    <tr>\n",
       "      <th>187</th>\n",
       "      <td>9/24/19, 10:23 AM</td>\n",
       "      <td>Joe</td>\n",
       "      <td>Fuck</td>\n",
       "      <td>1.000</td>\n",
       "      <td>0.000</td>\n",
       "      <td>0.0</td>\n",
       "      <td>-0.5423</td>\n",
       "    </tr>\n",
       "    <tr>\n",
       "      <th>115</th>\n",
       "      <td>9/24/19, 9:44 AM</td>\n",
       "      <td>Sarah Cook</td>\n",
       "      <td>ill</td>\n",
       "      <td>1.000</td>\n",
       "      <td>0.000</td>\n",
       "      <td>0.0</td>\n",
       "      <td>-0.4215</td>\n",
       "    </tr>\n",
       "    <tr>\n",
       "      <th>395</th>\n",
       "      <td>9/24/19, 9:23 PM</td>\n",
       "      <td>Joe</td>\n",
       "      <td>Sorry</td>\n",
       "      <td>1.000</td>\n",
       "      <td>0.000</td>\n",
       "      <td>0.0</td>\n",
       "      <td>-0.0772</td>\n",
       "    </tr>\n",
       "    <tr>\n",
       "      <th>35</th>\n",
       "      <td>11/13/18, 7:22 PM</td>\n",
       "      <td>Joe</td>\n",
       "      <td>:(</td>\n",
       "      <td>1.000</td>\n",
       "      <td>0.000</td>\n",
       "      <td>0.0</td>\n",
       "      <td>-0.4404</td>\n",
       "    </tr>\n",
       "    <tr>\n",
       "      <th>114</th>\n",
       "      <td>9/24/19, 9:44 AM</td>\n",
       "      <td>Sarah Cook</td>\n",
       "      <td>Ill</td>\n",
       "      <td>1.000</td>\n",
       "      <td>0.000</td>\n",
       "      <td>0.0</td>\n",
       "      <td>-0.4215</td>\n",
       "    </tr>\n",
       "    <tr>\n",
       "      <th>203</th>\n",
       "      <td>9/24/19, 10:42 AM</td>\n",
       "      <td>Sarah Cook</td>\n",
       "      <td>damn</td>\n",
       "      <td>1.000</td>\n",
       "      <td>0.000</td>\n",
       "      <td>0.0</td>\n",
       "      <td>-0.4019</td>\n",
       "    </tr>\n",
       "    <tr>\n",
       "      <th>316</th>\n",
       "      <td>9/24/19, 8:30 PM</td>\n",
       "      <td>Sarah Cook</td>\n",
       "      <td>no.</td>\n",
       "      <td>1.000</td>\n",
       "      <td>0.000</td>\n",
       "      <td>0.0</td>\n",
       "      <td>-0.2960</td>\n",
       "    </tr>\n",
       "    <tr>\n",
       "      <th>385</th>\n",
       "      <td>9/24/19, 9:22 PM</td>\n",
       "      <td>Sarah Cook</td>\n",
       "      <td>Stop pressuring me</td>\n",
       "      <td>0.821</td>\n",
       "      <td>0.179</td>\n",
       "      <td>0.0</td>\n",
       "      <td>-0.5574</td>\n",
       "    </tr>\n",
       "    <tr>\n",
       "      <th>182</th>\n",
       "      <td>9/24/19, 10:18 AM</td>\n",
       "      <td>Sarah Cook</td>\n",
       "      <td>I hate VR</td>\n",
       "      <td>0.787</td>\n",
       "      <td>0.213</td>\n",
       "      <td>0.0</td>\n",
       "      <td>-0.5719</td>\n",
       "    </tr>\n",
       "    <tr>\n",
       "      <th>246</th>\n",
       "      <td>9/24/19, 5:09 PM</td>\n",
       "      <td>Sarah Cook</td>\n",
       "      <td>Looks shit</td>\n",
       "      <td>0.783</td>\n",
       "      <td>0.217</td>\n",
       "      <td>0.0</td>\n",
       "      <td>-0.5574</td>\n",
       "    </tr>\n",
       "  </tbody>\n",
       "</table>\n",
       "</div>"
      ],
      "text/plain": [
       "             timestamp        name             message    neg    neu  pos  \\\n",
       "187  9/24/19, 10:23 AM         Joe                Fuck  1.000  0.000  0.0   \n",
       "115   9/24/19, 9:44 AM  Sarah Cook                 ill  1.000  0.000  0.0   \n",
       "395   9/24/19, 9:23 PM         Joe               Sorry  1.000  0.000  0.0   \n",
       "35   11/13/18, 7:22 PM         Joe                  :(  1.000  0.000  0.0   \n",
       "114   9/24/19, 9:44 AM  Sarah Cook                 Ill  1.000  0.000  0.0   \n",
       "203  9/24/19, 10:42 AM  Sarah Cook                damn  1.000  0.000  0.0   \n",
       "316   9/24/19, 8:30 PM  Sarah Cook                 no.  1.000  0.000  0.0   \n",
       "385   9/24/19, 9:22 PM  Sarah Cook  Stop pressuring me  0.821  0.179  0.0   \n",
       "182  9/24/19, 10:18 AM  Sarah Cook           I hate VR  0.787  0.213  0.0   \n",
       "246   9/24/19, 5:09 PM  Sarah Cook          Looks shit  0.783  0.217  0.0   \n",
       "\n",
       "     compound  \n",
       "187   -0.5423  \n",
       "115   -0.4215  \n",
       "395   -0.0772  \n",
       "35    -0.4404  \n",
       "114   -0.4215  \n",
       "203   -0.4019  \n",
       "316   -0.2960  \n",
       "385   -0.5574  \n",
       "182   -0.5719  \n",
       "246   -0.5574  "
      ]
     },
     "execution_count": 87,
     "metadata": {},
     "output_type": "execute_result"
    }
   ],
   "source": [
    "df.sort_values(by=['neg'],ascending=False).head(10)"
   ]
  },
  {
   "cell_type": "code",
   "execution_count": 88,
   "metadata": {},
   "outputs": [
    {
     "data": {
      "text/html": [
       "<div>\n",
       "<style scoped>\n",
       "    .dataframe tbody tr th:only-of-type {\n",
       "        vertical-align: middle;\n",
       "    }\n",
       "\n",
       "    .dataframe tbody tr th {\n",
       "        vertical-align: top;\n",
       "    }\n",
       "\n",
       "    .dataframe thead th {\n",
       "        text-align: right;\n",
       "    }\n",
       "</style>\n",
       "<table border=\"1\" class=\"dataframe\">\n",
       "  <thead>\n",
       "    <tr style=\"text-align: right;\">\n",
       "      <th></th>\n",
       "      <th>timestamp</th>\n",
       "      <th>name</th>\n",
       "      <th>message</th>\n",
       "      <th>neg</th>\n",
       "      <th>neu</th>\n",
       "      <th>pos</th>\n",
       "      <th>compound</th>\n",
       "    </tr>\n",
       "  </thead>\n",
       "  <tbody>\n",
       "    <tr>\n",
       "      <th>207</th>\n",
       "      <td>9/24/19, 10:43 AM</td>\n",
       "      <td>Joe</td>\n",
       "      <td>Haha</td>\n",
       "      <td>0.0</td>\n",
       "      <td>0.0</td>\n",
       "      <td>1.0</td>\n",
       "      <td>0.4588</td>\n",
       "    </tr>\n",
       "    <tr>\n",
       "      <th>210</th>\n",
       "      <td>9/24/19, 10:44 AM</td>\n",
       "      <td>Sarah Cook</td>\n",
       "      <td>Yeah</td>\n",
       "      <td>0.0</td>\n",
       "      <td>0.0</td>\n",
       "      <td>1.0</td>\n",
       "      <td>0.2960</td>\n",
       "    </tr>\n",
       "    <tr>\n",
       "      <th>104</th>\n",
       "      <td>9/24/19, 9:43 AM</td>\n",
       "      <td>Sarah Cook</td>\n",
       "      <td>Yeah</td>\n",
       "      <td>0.0</td>\n",
       "      <td>0.0</td>\n",
       "      <td>1.0</td>\n",
       "      <td>0.2960</td>\n",
       "    </tr>\n",
       "    <tr>\n",
       "      <th>103</th>\n",
       "      <td>9/24/19, 9:42 AM</td>\n",
       "      <td>Joe</td>\n",
       "      <td>Wow</td>\n",
       "      <td>0.0</td>\n",
       "      <td>0.0</td>\n",
       "      <td>1.0</td>\n",
       "      <td>0.5859</td>\n",
       "    </tr>\n",
       "    <tr>\n",
       "      <th>238</th>\n",
       "      <td>9/24/19, 5:05 PM</td>\n",
       "      <td>Joe</td>\n",
       "      <td>Yay!</td>\n",
       "      <td>0.0</td>\n",
       "      <td>0.0</td>\n",
       "      <td>1.0</td>\n",
       "      <td>0.5707</td>\n",
       "    </tr>\n",
       "    <tr>\n",
       "      <th>329</th>\n",
       "      <td>9/24/19, 9:06 PM</td>\n",
       "      <td>Sarah Cook</td>\n",
       "      <td>Yeah</td>\n",
       "      <td>0.0</td>\n",
       "      <td>0.0</td>\n",
       "      <td>1.0</td>\n",
       "      <td>0.2960</td>\n",
       "    </tr>\n",
       "    <tr>\n",
       "      <th>58</th>\n",
       "      <td>11/14/18, 10:18 AM</td>\n",
       "      <td>Joe</td>\n",
       "      <td>Wow</td>\n",
       "      <td>0.0</td>\n",
       "      <td>0.0</td>\n",
       "      <td>1.0</td>\n",
       "      <td>0.5859</td>\n",
       "    </tr>\n",
       "    <tr>\n",
       "      <th>154</th>\n",
       "      <td>9/24/19, 9:49 AM</td>\n",
       "      <td>Sarah Cook</td>\n",
       "      <td>Cute</td>\n",
       "      <td>0.0</td>\n",
       "      <td>0.0</td>\n",
       "      <td>1.0</td>\n",
       "      <td>0.4588</td>\n",
       "    </tr>\n",
       "    <tr>\n",
       "      <th>173</th>\n",
       "      <td>9/24/19, 9:55 AM</td>\n",
       "      <td>Sarah Cook</td>\n",
       "      <td>Thanks</td>\n",
       "      <td>0.0</td>\n",
       "      <td>0.0</td>\n",
       "      <td>1.0</td>\n",
       "      <td>0.4404</td>\n",
       "    </tr>\n",
       "    <tr>\n",
       "      <th>201</th>\n",
       "      <td>9/24/19, 10:42 AM</td>\n",
       "      <td>Sarah Cook</td>\n",
       "      <td>Good</td>\n",
       "      <td>0.0</td>\n",
       "      <td>0.0</td>\n",
       "      <td>1.0</td>\n",
       "      <td>0.4404</td>\n",
       "    </tr>\n",
       "  </tbody>\n",
       "</table>\n",
       "</div>"
      ],
      "text/plain": [
       "              timestamp        name message  neg  neu  pos  compound\n",
       "207   9/24/19, 10:43 AM         Joe    Haha  0.0  0.0  1.0    0.4588\n",
       "210   9/24/19, 10:44 AM  Sarah Cook    Yeah  0.0  0.0  1.0    0.2960\n",
       "104    9/24/19, 9:43 AM  Sarah Cook    Yeah  0.0  0.0  1.0    0.2960\n",
       "103    9/24/19, 9:42 AM         Joe     Wow  0.0  0.0  1.0    0.5859\n",
       "238    9/24/19, 5:05 PM         Joe    Yay!  0.0  0.0  1.0    0.5707\n",
       "329    9/24/19, 9:06 PM  Sarah Cook    Yeah  0.0  0.0  1.0    0.2960\n",
       "58   11/14/18, 10:18 AM         Joe     Wow  0.0  0.0  1.0    0.5859\n",
       "154    9/24/19, 9:49 AM  Sarah Cook    Cute  0.0  0.0  1.0    0.4588\n",
       "173    9/24/19, 9:55 AM  Sarah Cook  Thanks  0.0  0.0  1.0    0.4404\n",
       "201   9/24/19, 10:42 AM  Sarah Cook    Good  0.0  0.0  1.0    0.4404"
      ]
     },
     "execution_count": 88,
     "metadata": {},
     "output_type": "execute_result"
    }
   ],
   "source": [
    "df.sort_values(by=['pos'],ascending=False).head(10)"
   ]
  },
  {
   "cell_type": "code",
   "execution_count": 116,
   "metadata": {},
   "outputs": [
    {
     "data": {
      "text/plain": [
       "I                84\n",
       "you              69\n",
       "the              66\n",
       "to               66\n",
       "a                60\n",
       "me               32\n",
       "and              30\n",
       "it               28\n",
       "for              27\n",
       "that             27\n",
       "is               25\n",
       "my               24\n",
       "in               21\n",
       "Yeah             19\n",
       "on               19\n",
       "omitted>         19\n",
       "<Media           19\n",
       "so               18\n",
       "of               18\n",
       "do               17\n",
       "be               17\n",
       "I’m              16\n",
       "with             15\n",
       "can              15\n",
       "not              14\n",
       "we               14\n",
       "but              13\n",
       "just             13\n",
       "was              13\n",
       "have             12\n",
       "                 ..\n",
       "shows             1\n",
       "pointing          1\n",
       "probs             1\n",
       "redundancies,     1\n",
       "floor             1\n",
       "lil               1\n",
       "oil               1\n",
       "also              1\n",
       "after             1\n",
       "stop              1\n",
       "edits             1\n",
       "housemate         1\n",
       "found             1\n",
       "mini              1\n",
       "could             1\n",
       "advice            1\n",
       "somewhere,        1\n",
       "remake            1\n",
       "sockets?          1\n",
       "Heck              1\n",
       "boys?             1\n",
       "saying            1\n",
       "ooooo             1\n",
       "Ohhhh             1\n",
       "artist            1\n",
       "bitch             1\n",
       "season            1\n",
       "directly          1\n",
       "pret              1\n",
       "words             1\n",
       "Length: 1073, dtype: int64"
      ]
     },
     "execution_count": 116,
     "metadata": {},
     "output_type": "execute_result"
    }
   ],
   "source": [
    "# frequency count\n",
    "pd.Series(' '.join(df.message).split()).value_counts()"
   ]
  },
  {
   "cell_type": "code",
   "execution_count": 95,
   "metadata": {},
   "outputs": [
    {
     "name": "stderr",
     "output_type": "stream",
     "text": [
      "/Users/joern/anaconda3/envs/Python36/lib/python3.6/site-packages/ipykernel_launcher.py:1: FutureWarning: The signature of `Series.to_csv` was aligned to that of `DataFrame.to_csv`, and argument 'header' will change its default value from False to True: please pass an explicit value to suppress this warning.\n",
      "  \"\"\"Entry point for launching an IPython kernel.\n"
     ]
    }
   ],
   "source": [
    "# output for https://www.wordclouds.com/\n",
    "df['message'].to_csv('words.txt')"
   ]
  },
  {
   "cell_type": "code",
   "execution_count": 96,
   "metadata": {},
   "outputs": [],
   "source": [
    "# If label is negative then True\n",
    "df['label'] = df['neg'] > 0"
   ]
  },
  {
   "cell_type": "code",
   "execution_count": 114,
   "metadata": {},
   "outputs": [
    {
     "data": {
      "text/plain": [
       "<matplotlib.axes._subplots.AxesSubplot at 0x1a286d5320>"
      ]
     },
     "execution_count": 114,
     "metadata": {},
     "output_type": "execute_result"
    },
    {
     "data": {
      "image/png": "[encoded data removed]",
      "text/plain": [
       "<Figure size 432x288 with 1 Axes>"
      ]
     },
     "metadata": {},
     "output_type": "display_data"
    }
   ],
   "source": [
    "df.label.value_counts().plot(kind='pie', title='Total Negative')"
   ]
  },
  {
   "cell_type": "code",
   "execution_count": 110,
   "metadata": {},
   "outputs": [
    {
     "data": {
      "text/plain": [
       "<matplotlib.axes._subplots.AxesSubplot at 0x1a284e48d0>"
      ]
     },
     "execution_count": 110,
     "metadata": {},
     "output_type": "execute_result"
    },
    {
     "data": {
      "image/png": "[encoded data removed]",
      "text/plain": [
       "<Figure size 432x288 with 1 Axes>"
      ]
     },
     "metadata": {},
     "output_type": "display_data"
    }
   ],
   "source": [
    "df[df.name=='Joe'].label.value_counts().plot(kind='pie', title='Sarah Negative')"
   ]
  },
  {
   "cell_type": "code",
   "execution_count": 112,
   "metadata": {},
   "outputs": [
    {
     "data": {
      "text/plain": [
       "<matplotlib.axes._subplots.AxesSubplot at 0x1a285d4e48>"
      ]
     },
     "execution_count": 112,
     "metadata": {},
     "output_type": "execute_result"
    },
    {
     "data": {
      "image/png": "[encoded data removed]",
      "text/plain": [
       "<Figure size 432x288 with 1 Axes>"
      ]
     },
     "metadata": {},
     "output_type": "display_data"
    }
   ],
   "source": [
    "df[df.name=='Sarah Cook'].label.value_counts().plot(kind='pie',title='Joe Negative')"
   ]
  }
 ],
 "metadata": {
  "kernelspec": {
   "display_name": "Python 3",
   "language": "python",
   "name": "python3"
  },
  "language_info": {
   "codemirror_mode": {
    "name": "ipython",
    "version": 3
   },
   "file_extension": ".py",
   "mimetype": "text/x-python",
   "name": "python",
   "nbconvert_exporter": "python",
   "pygments_lexer": "ipython3",
   "version": "3.6.8"
  }
 },
 "nbformat": 4,
 "nbformat_minor": 2
}
